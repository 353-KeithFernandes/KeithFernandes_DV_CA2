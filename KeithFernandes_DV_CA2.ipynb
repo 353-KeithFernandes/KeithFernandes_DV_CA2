{
 "cells": [
  {
   "cell_type": "markdown",
   "id": "512ee1f9",
   "metadata": {},
   "source": [
    "## Artificial Intelligence\n",
    "### David McQuaid\n",
    "### CA1 - AI_Lv8_CA2_v8 \n",
    "#### Keith Fernandes - 2020353"
   ]
  },
  {
   "cell_type": "markdown",
   "id": "1bc54ba1",
   "metadata": {},
   "source": [
    "### Questions \n",
    "1) A puzzle has multiple ways of reaching the end solution. Fig. 1 shows a graph that represents all possible routes to the solution. The starting point of the game is represented by A, the solution is represented by S. The other points in the graph are possible intermediary stages. \n"
   ]
  },
  {
   "cell_type": "markdown",
   "id": "c2557819",
   "metadata": {},
   "source": [
    "**(a) The graph in Fig. 1 is a visualisation of the problem.**\n",
    "- **(i) Identify the differences between a graph and a tree.**\n"
   ]
  },
  {
   "cell_type": "markdown",
   "id": "123e3266",
   "metadata": {},
   "source": [
    "  Trees and graphs are non-linear data structures where trees represent hierarchical relationships and graphs follow a network model. Among the main distinctions in trees, there is a single path between any two vertices, while a graph can have unidirectional and bidirectional paths. We also see that in a tree there is a root node and each child can have only one parent node, whereas a graph does not have the concept of a root node. Trees cannot have rings or rings of their own, but graphs can have such characteristics. We also see that diagrams are generally more complex due to the possibility of loops, while trees are simpler. In tree traversal it includes pre-order, in-order and post-order techniques whereas graph traversal uses BFS and DFS techniques. Trees can have n-1 edges, but the number of edges in a graph is not predefined. And finally, trees have a hierarchical structure and graphs have a network model."
   ]
  },
  {
   "cell_type": "code",
   "execution_count": null,
   "id": "96640220",
   "metadata": {},
   "outputs": [],
   "source": []
  }
 ],
 "metadata": {
  "kernelspec": {
   "display_name": "Python 3 (ipykernel)",
   "language": "python",
   "name": "python3"
  },
  "language_info": {
   "codemirror_mode": {
    "name": "ipython",
    "version": 3
   },
   "file_extension": ".py",
   "mimetype": "text/x-python",
   "name": "python",
   "nbconvert_exporter": "python",
   "pygments_lexer": "ipython3",
   "version": "3.9.7"
  }
 },
 "nbformat": 4,
 "nbformat_minor": 5
}
