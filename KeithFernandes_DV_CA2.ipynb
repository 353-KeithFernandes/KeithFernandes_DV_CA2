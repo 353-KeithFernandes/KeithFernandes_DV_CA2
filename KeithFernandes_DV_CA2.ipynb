{
 "cells": [
  {
   "cell_type": "markdown",
   "id": "af9be969",
   "metadata": {},
   "source": [
    "## Artificial Intelligence\n",
    "### David McQuaid\n",
    "### CA1 - AI_Lv8_CA2_v8 \n",
    "#### Keith Fernandes - 2020353"
   ]
  },
  {
   "cell_type": "markdown",
   "id": "7c504a24",
   "metadata": {},
   "source": [
    "### Questions \n",
    "1) A puzzle has multiple ways of reaching the end solution. Fig. 1 shows a graph that represents all possible routes to the solution. The starting point of the game is represented by A, the solution is represented by S. The other points in the graph are possible intermediary stages. \n"
   ]
  },
  {
   "cell_type": "code",
   "execution_count": 1,
   "id": "1d9177f7",
   "metadata": {},
   "outputs": [],
   "source": [
    "from PIL import Image"
   ]
  },
  {
   "cell_type": "markdown",
   "id": "b1ce9417",
   "metadata": {},
   "source": [
    "**(a) The graph in Fig. 1 is a visualisation of the problem.**\n",
    "- **(i) Identify the differences between a graph and a tree.**\n"
   ]
  },
  {
   "cell_type": "markdown",
   "id": "42597265",
   "metadata": {},
   "source": [
    "  Trees and graphs are non-linear data structures where trees represent hierarchical relationships and graphs follow a network model. Among the main distinctions in trees, there is a single path between any two vertices, while a graph can have unidirectional and bidirectional paths. We also see that in a tree there is a root node and each child can have only one parent node, whereas a graph does not have the concept of a root node. Trees cannot have rings or rings of their own, but graphs can have such characteristics. We also see that diagrams are generally more complex due to the possibility of loops, while trees are simpler. In tree traversal it includes pre-order, in-order and post-order techniques whereas graph traversal uses BFS and DFS techniques. Trees can have n-1 edges, but the number of edges in a graph is not predefined. And finally, trees have a hierarchical structure and graphs have a network model."
   ]
  },
  {
   "cell_type": "markdown",
   "id": "db76c1f9",
   "metadata": {},
   "source": [
    "- **(ii) Explain in detail how the graph is an abstraction of the problem.** \n",
    "\n"
   ]
  },
  {
   "cell_type": "markdown",
   "id": "8d751d40",
   "metadata": {},
   "source": [
    "The graph serves as an abstraction of a problem, simplifying and representing complex relationships between different entities. For many problems, the actual relationships or dependencies can be complex and difficult to visualize. Using a diagram as an abstraction, we create a simplified model that captures important relationships and interactions between different elements of the problem. The graph behaves like an abstraction in some ways, for example, the entities involved are abstracted as nodes in the diagram. These nodes can represent objects, events, locations, or other relevant elements. There may be relationships or connections between entities that are represented as edges in the diagram. These edges can have weights or other attributes that can capture the nature and strength of the relationship, in the overall structure of a graph, so the topology of the relationships is reflected. Providing a high-level view of how different elements are connected and how information or influence can flow through the system. Occurring in pathfinding, problems often involve finding paths or routes between different entities. Graphs provide a natural representation for pathfinding algorithms, helping to identify the most efficient or optimal routes. Many real-world problems involve complex systems with many interacting components. By bringing a problem together in a diagram, it is easier to simplify its presentation, making it more manageable, making it easier to analyze and understand the underlying structure. There are also, graph algorithms like Depth First Search (DFS) or Breadth First Search (BFS) can be used to solve various types of problems efficiently. These algorithms work on an abstract graph and provide solutions to problems such as connectivity, reachability, and network flow."
   ]
  },
  {
   "cell_type": "markdown",
   "id": "ad1c587e",
   "metadata": {},
   "source": [
    "- **(iii) Identify the advantages of using a visualisation such as the one shown in Fig. 1.**"
   ]
  },
  {
   "cell_type": "markdown",
   "id": "b9977a68",
   "metadata": {},
   "source": [
    "Visualization graphs provide benefits such as transparency, assistance in recognizing patterns, they have effective communication, they also assist in decision making, they complement exploration and analysis, along with the identification of trends and outliers, in effective visualization of networks, in facilitating collaboration, in assisting of forecasting planning and not least in effective problem solving. Charts provide a visually intuitive way to understand and communicate complex relationships in its data."
   ]
  },
  {
   "cell_type": "markdown",
   "id": "be32b068",
   "metadata": {},
   "source": [
    "**(b) Demonstrate how Dijkstra’s algorithm would find the shortest path to the solution in Fig.1 through diagrams and written explanation of each stage.**"
   ]
  },
  {
   "cell_type": "markdown",
   "id": "b30a56d5",
   "metadata": {},
   "source": [
    "The Dijkstra algorithm was created to find the shortest path weighted, which means iteratively selecting the vertex with the minimum current cost, marking it as visited, and updating the costs of its unvisited neighbors.\n",
    "To start, all connected nodes have to be defined - except for the node where Dijkstra is going to start. The initial node will be assigned a distance of zero - once the next node has not been chosen yet. "
   ]
  },
  {
   "cell_type": "markdown",
   "id": "c2a2d211",
   "metadata": {},
   "source": [
    "vertex --- cost to get to it from vertex 0<br>\n",
    "A ------- 0 <br>\n",
    "B ------- inf <br>\n",
    "C ------- inf <br>\n",
    "D ------- inf <br>\n",
    "E ------- inf <br>\n",
    "F ------- inf <br>\n",
    "G ------- inf <br>\n",
    "H ------- inf <br>\n",
    "J ------- inf <br>\n",
    "..."
   ]
  },
  {
   "cell_type": "markdown",
   "id": "9b2cba38",
   "metadata": {},
   "source": [
    "Set initial costs to 'infinity' for all vertices except the starting vertex (Node A), which is set to 0 - as it has shown above.\n",
    "* Pick the starting vertex (Node A) with the minimum cost (0).\n",
    "* Mark it as visited.\n",
    "* Update the costs of adjacent vertices (Nodes B, C and H) based on the current path.\n",
    "As shown below.\n"
   ]
  },
  {
   "cell_type": "markdown",
   "id": "51c8c14a",
   "metadata": {},
   "source": [
    "vertex --- cost to get to it from vertex 0<br>\n",
    "A ------- 0 <br>\n",
    "B ------- 1 <br>\n",
    "C ------- 5 <br>\n",
    "D ------- inf <br>\n",
    "E ------- inf <br>\n",
    "F ------- inf <br>\n",
    "G ------- inf <br>\n",
    "H ------- 2 <br>\n",
    "J ------- inf <br>\n",
    "..."
   ]
  },
  {
   "cell_type": "markdown",
   "id": "85a9652d",
   "metadata": {},
   "source": []
  },
  {
   "cell_type": "markdown",
   "id": "a28bbcea",
   "metadata": {},
   "source": []
  },
  {
   "cell_type": "markdown",
   "id": "638c6081",
   "metadata": {},
   "source": [
    "2) The creator of the puzzle has been told that the A* algorithm is more efficient at finding the shortest path because it uses heuristics. Compare the performance of Dijkstra’s algorithm and the A* search algorithm, referring to heuristics, to find the shortest path to the problem by implementing both algorithms programmatically and comparing the solutions generated in Mark-down. Refer to the complexity of the algorithms and compare the actual time it takes for the solutions to be processed.\n"
   ]
  },
  {
   "cell_type": "code",
   "execution_count": null,
   "id": "4d0f7386",
   "metadata": {},
   "outputs": [],
   "source": []
  },
  {
   "cell_type": "code",
   "execution_count": null,
   "id": "84851716",
   "metadata": {},
   "outputs": [],
   "source": []
  },
  {
   "cell_type": "markdown",
   "id": "09ae91b0",
   "metadata": {},
   "source": [
    "## References"
   ]
  },
  {
   "cell_type": "markdown",
   "id": "be3f7ab2",
   "metadata": {},
   "source": [
    "- Difference Between Tree and Graph, (2023) - Tech Differences,  https://techdifferences.com/difference-between-tree-and-graph.html\n",
    "- Algorithms - Problem abstraction / reduction, (2023), TeachingCS, https://www.youtube.com/watch?v=RwAA4paBi0k&ab_channel=TeachingCS\n",
    "- Leonhard Euler and Graph Theory, (2023), Luis Natera, Ph.D.   https://luisnatera.com/posts/2020/04/Euler/\n",
    "- Classic Computer Science Problems in Swift, David Kopec, (March 2018)  https://livebook.manning.com/book/classic-computer-science-problems-in-swift/chapter-4/10"
   ]
  }
 ],
 "metadata": {
  "kernelspec": {
   "display_name": "Python 3 (ipykernel)",
   "language": "python",
   "name": "python3"
  },
  "language_info": {
   "codemirror_mode": {
    "name": "ipython",
    "version": 3
   },
   "file_extension": ".py",
   "mimetype": "text/x-python",
   "name": "python",
   "nbconvert_exporter": "python",
   "pygments_lexer": "ipython3",
   "version": "3.9.7"
  }
 },
 "nbformat": 4,
 "nbformat_minor": 5
}
